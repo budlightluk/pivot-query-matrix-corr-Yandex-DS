{
 "cells": [
  {
   "cell_type": "code",
   "execution_count": 1,
   "id": "a6e3bc3c",
   "metadata": {},
   "outputs": [
    {
     "data": {
      "text/html": [
       "<div>\n",
       "<style scoped>\n",
       "    .dataframe tbody tr th:only-of-type {\n",
       "        vertical-align: middle;\n",
       "    }\n",
       "\n",
       "    .dataframe tbody tr th {\n",
       "        vertical-align: top;\n",
       "    }\n",
       "\n",
       "    .dataframe thead th {\n",
       "        text-align: right;\n",
       "    }\n",
       "</style>\n",
       "<table border=\"1\" class=\"dataframe\">\n",
       "  <thead>\n",
       "    <tr style=\"text-align: right;\">\n",
       "      <th></th>\n",
       "      <th>date_time</th>\n",
       "      <th>id</th>\n",
       "      <th>time_spent</th>\n",
       "      <th>name</th>\n",
       "    </tr>\n",
       "  </thead>\n",
       "  <tbody>\n",
       "    <tr>\n",
       "      <th>0</th>\n",
       "      <td>20180406T165358</td>\n",
       "      <td>76144fb2</td>\n",
       "      <td>98.0</td>\n",
       "      <td>Василёк</td>\n",
       "    </tr>\n",
       "    <tr>\n",
       "      <th>1</th>\n",
       "      <td>20180404T173913</td>\n",
       "      <td>76144fb2</td>\n",
       "      <td>15.0</td>\n",
       "      <td>Василёк</td>\n",
       "    </tr>\n",
       "    <tr>\n",
       "      <th>2</th>\n",
       "      <td>20180403T172824</td>\n",
       "      <td>76144fb2</td>\n",
       "      <td>220.0</td>\n",
       "      <td>Василёк</td>\n",
       "    </tr>\n",
       "    <tr>\n",
       "      <th>3</th>\n",
       "      <td>20180407T070441</td>\n",
       "      <td>76144fb2</td>\n",
       "      <td>19.0</td>\n",
       "      <td>Василёк</td>\n",
       "    </tr>\n",
       "    <tr>\n",
       "      <th>4</th>\n",
       "      <td>20180404T132049</td>\n",
       "      <td>76144fb2</td>\n",
       "      <td>14.0</td>\n",
       "      <td>Василёк</td>\n",
       "    </tr>\n",
       "  </tbody>\n",
       "</table>\n",
       "</div>"
      ],
      "text/plain": [
       "         date_time        id  time_spent     name\n",
       "0  20180406T165358  76144fb2        98.0  Василёк\n",
       "1  20180404T173913  76144fb2        15.0  Василёк\n",
       "2  20180403T172824  76144fb2       220.0  Василёк\n",
       "3  20180407T070441  76144fb2        19.0  Василёк\n",
       "4  20180404T132049  76144fb2        14.0  Василёк"
      ]
     },
     "execution_count": 1,
     "metadata": {},
     "output_type": "execute_result"
    }
   ],
   "source": [
    "import pandas as pd\n",
    "df = pd.read_csv('visits.csv', sep='\\t')\n",
    "df.head()"
   ]
  },
  {
   "cell_type": "code",
   "execution_count": 2,
   "id": "08e2175e",
   "metadata": {},
   "outputs": [
    {
     "data": {
      "text/plain": [
       "386"
      ]
     },
     "execution_count": 2,
     "metadata": {},
     "output_type": "execute_result"
    }
   ],
   "source": [
    "df['too_fast'] = df['time_spent'] < 60\n",
    "\n",
    "df['too_slow'] = df['time_spent'] > 1000\n",
    "\n",
    "\n",
    "\n",
    "too_fast_stat = df.pivot_table(index='id', values='too_fast')\n",
    "good_ids = too_fast_stat.query('too_fast < 0.5')\n",
    "good_data = df.query('id in @good_ids.index')\n",
    "len(good_ids)\n"
   ]
  },
  {
   "cell_type": "code",
   "execution_count": 9,
   "id": "977a915f",
   "metadata": {},
   "outputs": [
    {
     "data": {
      "text/plain": [
       "229095"
      ]
     },
     "execution_count": 9,
     "metadata": {},
     "output_type": "execute_result"
    }
   ],
   "source": [
    "len(good_data)"
   ]
  },
  {
   "cell_type": "code",
   "execution_count": 17,
   "id": "c5e436cb",
   "metadata": {},
   "outputs": [
    {
     "data": {
      "text/html": [
       "<div>\n",
       "<style scoped>\n",
       "    .dataframe tbody tr th:only-of-type {\n",
       "        vertical-align: middle;\n",
       "    }\n",
       "\n",
       "    .dataframe tbody tr th {\n",
       "        vertical-align: top;\n",
       "    }\n",
       "\n",
       "    .dataframe thead th {\n",
       "        text-align: right;\n",
       "    }\n",
       "</style>\n",
       "<table border=\"1\" class=\"dataframe\">\n",
       "  <thead>\n",
       "    <tr style=\"text-align: right;\">\n",
       "      <th></th>\n",
       "      <th>date_time</th>\n",
       "      <th>id</th>\n",
       "      <th>time_spent</th>\n",
       "      <th>name</th>\n",
       "      <th>too_fast</th>\n",
       "      <th>too_slow</th>\n",
       "    </tr>\n",
       "  </thead>\n",
       "  <tbody>\n",
       "    <tr>\n",
       "      <th>0</th>\n",
       "      <td>20180406T165358</td>\n",
       "      <td>76144fb2</td>\n",
       "      <td>98.0</td>\n",
       "      <td>Василёк</td>\n",
       "      <td>False</td>\n",
       "      <td>False</td>\n",
       "    </tr>\n",
       "    <tr>\n",
       "      <th>2</th>\n",
       "      <td>20180403T172824</td>\n",
       "      <td>76144fb2</td>\n",
       "      <td>220.0</td>\n",
       "      <td>Василёк</td>\n",
       "      <td>False</td>\n",
       "      <td>False</td>\n",
       "    </tr>\n",
       "    <tr>\n",
       "      <th>6</th>\n",
       "      <td>20180402T082321</td>\n",
       "      <td>76144fb2</td>\n",
       "      <td>555.0</td>\n",
       "      <td>Василёк</td>\n",
       "      <td>False</td>\n",
       "      <td>False</td>\n",
       "    </tr>\n",
       "    <tr>\n",
       "      <th>7</th>\n",
       "      <td>20180407T003408</td>\n",
       "      <td>76144fb2</td>\n",
       "      <td>286.0</td>\n",
       "      <td>Василёк</td>\n",
       "      <td>False</td>\n",
       "      <td>False</td>\n",
       "    </tr>\n",
       "    <tr>\n",
       "      <th>9</th>\n",
       "      <td>20180405T131939</td>\n",
       "      <td>76144fb2</td>\n",
       "      <td>248.0</td>\n",
       "      <td>Василёк</td>\n",
       "      <td>False</td>\n",
       "      <td>False</td>\n",
       "    </tr>\n",
       "    <tr>\n",
       "      <th>10</th>\n",
       "      <td>20180404T192552</td>\n",
       "      <td>76144fb2</td>\n",
       "      <td>236.0</td>\n",
       "      <td>Василёк</td>\n",
       "      <td>False</td>\n",
       "      <td>False</td>\n",
       "    </tr>\n",
       "    <tr>\n",
       "      <th>11</th>\n",
       "      <td>20180405T132943</td>\n",
       "      <td>76144fb2</td>\n",
       "      <td>225.0</td>\n",
       "      <td>Василёк</td>\n",
       "      <td>False</td>\n",
       "      <td>False</td>\n",
       "    </tr>\n",
       "    <tr>\n",
       "      <th>12</th>\n",
       "      <td>20180406T133522</td>\n",
       "      <td>76144fb2</td>\n",
       "      <td>278.0</td>\n",
       "      <td>Василёк</td>\n",
       "      <td>False</td>\n",
       "      <td>False</td>\n",
       "    </tr>\n",
       "    <tr>\n",
       "      <th>14</th>\n",
       "      <td>20180406T081933</td>\n",
       "      <td>76144fb2</td>\n",
       "      <td>450.0</td>\n",
       "      <td>Василёк</td>\n",
       "      <td>False</td>\n",
       "      <td>False</td>\n",
       "    </tr>\n",
       "    <tr>\n",
       "      <th>15</th>\n",
       "      <td>20180406T071552</td>\n",
       "      <td>76144fb2</td>\n",
       "      <td>285.0</td>\n",
       "      <td>Василёк</td>\n",
       "      <td>False</td>\n",
       "      <td>False</td>\n",
       "    </tr>\n",
       "  </tbody>\n",
       "</table>\n",
       "</div>"
      ],
      "text/plain": [
       "          date_time        id  time_spent     name  too_fast  too_slow\n",
       "0   20180406T165358  76144fb2        98.0  Василёк     False     False\n",
       "2   20180403T172824  76144fb2       220.0  Василёк     False     False\n",
       "6   20180402T082321  76144fb2       555.0  Василёк     False     False\n",
       "7   20180407T003408  76144fb2       286.0  Василёк     False     False\n",
       "9   20180405T131939  76144fb2       248.0  Василёк     False     False\n",
       "10  20180404T192552  76144fb2       236.0  Василёк     False     False\n",
       "11  20180405T132943  76144fb2       225.0  Василёк     False     False\n",
       "12  20180406T133522  76144fb2       278.0  Василёк     False     False\n",
       "14  20180406T081933  76144fb2       450.0  Василёк     False     False\n",
       "15  20180406T071552  76144fb2       285.0  Василёк     False     False"
      ]
     },
     "execution_count": 17,
     "metadata": {},
     "output_type": "execute_result"
    }
   ],
   "source": [
    "good_data = df.query('id in @good_ids.index and 60 <= time_spent <= 1000')\n",
    "len(good_data)\n",
    "good_data.head(10)"
   ]
  },
  {
   "cell_type": "code",
   "execution_count": 4,
   "id": "95bafdcb",
   "metadata": {},
   "outputs": [
    {
     "data": {
      "text/plain": [
       "array([[<AxesSubplot:title={'center':'time_spent'}>]], dtype=object)"
      ]
     },
     "execution_count": 4,
     "metadata": {},
     "output_type": "execute_result"
    },
    {
     "data": {
      "image/png": "[encoded data removed]",
      "text/plain": [
       "<Figure size 432x288 with 1 Axes>"
      ]
     },
     "metadata": {
      "needs_background": "light"
     },
     "output_type": "display_data"
    }
   ],
   "source": [
    "good_data = df.query('id in @good_ids.index and 60 <= time_spent <= 1000')\n",
    "\n",
    "station_stat = df.pivot_table(index='id', values='time_spent', aggfunc='median')\n",
    "good_station_stat = good_data.pivot_table(index='id', values='time_spent', aggfunc='median')\n",
    "good_station_stat.hist(bins=50)\n",
    "\n"
   ]
  },
  {
   "cell_type": "code",
   "execution_count": 7,
   "id": "b991d31a",
   "metadata": {},
   "outputs": [
    {
     "data": {
      "text/html": [
       "<div>\n",
       "<style scoped>\n",
       "    .dataframe tbody tr th:only-of-type {\n",
       "        vertical-align: middle;\n",
       "    }\n",
       "\n",
       "    .dataframe tbody tr th {\n",
       "        vertical-align: top;\n",
       "    }\n",
       "\n",
       "    .dataframe thead th {\n",
       "        text-align: right;\n",
       "    }\n",
       "</style>\n",
       "<table border=\"1\" class=\"dataframe\">\n",
       "  <thead>\n",
       "    <tr style=\"text-align: right;\">\n",
       "      <th></th>\n",
       "      <th>time_spent</th>\n",
       "    </tr>\n",
       "    <tr>\n",
       "      <th>name</th>\n",
       "      <th></th>\n",
       "    </tr>\n",
       "  </thead>\n",
       "  <tbody>\n",
       "    <tr>\n",
       "      <th>Белоцветник</th>\n",
       "      <td>154.0</td>\n",
       "    </tr>\n",
       "    <tr>\n",
       "      <th>Бальзамин</th>\n",
       "      <td>158.0</td>\n",
       "    </tr>\n",
       "    <tr>\n",
       "      <th>Незабудка</th>\n",
       "      <td>161.0</td>\n",
       "    </tr>\n",
       "    <tr>\n",
       "      <th>Колокольчик</th>\n",
       "      <td>161.0</td>\n",
       "    </tr>\n",
       "    <tr>\n",
       "      <th>Обриета</th>\n",
       "      <td>167.0</td>\n",
       "    </tr>\n",
       "    <tr>\n",
       "      <th>Функия</th>\n",
       "      <td>171.5</td>\n",
       "    </tr>\n",
       "    <tr>\n",
       "      <th>Гацания</th>\n",
       "      <td>178.5</td>\n",
       "    </tr>\n",
       "    <tr>\n",
       "      <th>Аммобиум</th>\n",
       "      <td>180.5</td>\n",
       "    </tr>\n",
       "    <tr>\n",
       "      <th>Пион</th>\n",
       "      <td>180.5</td>\n",
       "    </tr>\n",
       "    <tr>\n",
       "      <th>Бархатцы</th>\n",
       "      <td>181.5</td>\n",
       "    </tr>\n",
       "    <tr>\n",
       "      <th>Мальва</th>\n",
       "      <td>182.0</td>\n",
       "    </tr>\n",
       "    <tr>\n",
       "      <th>Ирис</th>\n",
       "      <td>185.0</td>\n",
       "    </tr>\n",
       "    <tr>\n",
       "      <th>Арктотис</th>\n",
       "      <td>185.0</td>\n",
       "    </tr>\n",
       "    <tr>\n",
       "      <th>Люпин</th>\n",
       "      <td>186.0</td>\n",
       "    </tr>\n",
       "    <tr>\n",
       "      <th>Амарант</th>\n",
       "      <td>187.5</td>\n",
       "    </tr>\n",
       "    <tr>\n",
       "      <th>Хризантема</th>\n",
       "      <td>188.0</td>\n",
       "    </tr>\n",
       "    <tr>\n",
       "      <th>Тюльпан</th>\n",
       "      <td>190.0</td>\n",
       "    </tr>\n",
       "    <tr>\n",
       "      <th>Ромашка</th>\n",
       "      <td>191.0</td>\n",
       "    </tr>\n",
       "    <tr>\n",
       "      <th>Бегония</th>\n",
       "      <td>195.0</td>\n",
       "    </tr>\n",
       "    <tr>\n",
       "      <th>Вербена</th>\n",
       "      <td>199.0</td>\n",
       "    </tr>\n",
       "    <tr>\n",
       "      <th>Гейхера</th>\n",
       "      <td>204.0</td>\n",
       "    </tr>\n",
       "    <tr>\n",
       "      <th>Вероника</th>\n",
       "      <td>212.0</td>\n",
       "    </tr>\n",
       "    <tr>\n",
       "      <th>Левкой</th>\n",
       "      <td>212.5</td>\n",
       "    </tr>\n",
       "    <tr>\n",
       "      <th>Подснежник</th>\n",
       "      <td>218.5</td>\n",
       "    </tr>\n",
       "    <tr>\n",
       "      <th>Доротеантус</th>\n",
       "      <td>220.0</td>\n",
       "    </tr>\n",
       "    <tr>\n",
       "      <th>Диморфотека</th>\n",
       "      <td>224.0</td>\n",
       "    </tr>\n",
       "    <tr>\n",
       "      <th>Немезия</th>\n",
       "      <td>226.0</td>\n",
       "    </tr>\n",
       "    <tr>\n",
       "      <th>Гвоздика</th>\n",
       "      <td>229.0</td>\n",
       "    </tr>\n",
       "    <tr>\n",
       "      <th>Малопа</th>\n",
       "      <td>229.0</td>\n",
       "    </tr>\n",
       "    <tr>\n",
       "      <th>Календула</th>\n",
       "      <td>254.0</td>\n",
       "    </tr>\n",
       "    <tr>\n",
       "      <th>Крокус</th>\n",
       "      <td>257.5</td>\n",
       "    </tr>\n",
       "    <tr>\n",
       "      <th>Василёк</th>\n",
       "      <td>264.0</td>\n",
       "    </tr>\n",
       "    <tr>\n",
       "      <th>Космос</th>\n",
       "      <td>267.0</td>\n",
       "    </tr>\n",
       "    <tr>\n",
       "      <th>Георгина</th>\n",
       "      <td>279.0</td>\n",
       "    </tr>\n",
       "    <tr>\n",
       "      <th>Лаватера</th>\n",
       "      <td>282.0</td>\n",
       "    </tr>\n",
       "    <tr>\n",
       "      <th>Агератум</th>\n",
       "      <td>309.0</td>\n",
       "    </tr>\n",
       "    <tr>\n",
       "      <th>Роза</th>\n",
       "      <td>315.0</td>\n",
       "    </tr>\n",
       "    <tr>\n",
       "      <th>Петуния</th>\n",
       "      <td>319.5</td>\n",
       "    </tr>\n",
       "    <tr>\n",
       "      <th>Гелихризум</th>\n",
       "      <td>342.0</td>\n",
       "    </tr>\n",
       "    <tr>\n",
       "      <th>Астильба</th>\n",
       "      <td>423.0</td>\n",
       "    </tr>\n",
       "  </tbody>\n",
       "</table>\n",
       "</div>"
      ],
      "text/plain": [
       "             time_spent\n",
       "name                   \n",
       "Белоцветник       154.0\n",
       "Бальзамин         158.0\n",
       "Незабудка         161.0\n",
       "Колокольчик       161.0\n",
       "Обриета           167.0\n",
       "Функия            171.5\n",
       "Гацания           178.5\n",
       "Аммобиум          180.5\n",
       "Пион              180.5\n",
       "Бархатцы          181.5\n",
       "Мальва            182.0\n",
       "Ирис              185.0\n",
       "Арктотис          185.0\n",
       "Люпин             186.0\n",
       "Амарант           187.5\n",
       "Хризантема        188.0\n",
       "Тюльпан           190.0\n",
       "Ромашка           191.0\n",
       "Бегония           195.0\n",
       "Вербена           199.0\n",
       "Гейхера           204.0\n",
       "Вероника          212.0\n",
       "Левкой            212.5\n",
       "Подснежник        218.5\n",
       "Доротеантус       220.0\n",
       "Диморфотека       224.0\n",
       "Немезия           226.0\n",
       "Гвоздика          229.0\n",
       "Малопа            229.0\n",
       "Календула         254.0\n",
       "Крокус            257.5\n",
       "Василёк           264.0\n",
       "Космос            267.0\n",
       "Георгина          279.0\n",
       "Лаватера          282.0\n",
       "Агератум          309.0\n",
       "Роза              315.0\n",
       "Петуния           319.5\n",
       "Гелихризум        342.0\n",
       "Астильба          423.0"
      ]
     },
     "execution_count": 7,
     "metadata": {},
     "output_type": "execute_result"
    }
   ],
   "source": [
    "good_stat = good_data.pivot_table(index='name', values='time_spent', aggfunc='median')\n",
    "good_stat.sort_values('time_spent')"
   ]
  },
  {
   "cell_type": "code",
   "execution_count": 8,
   "id": "fb5c6188",
   "metadata": {},
   "outputs": [
    {
     "data": {
      "text/plain": [
       "<AxesSubplot:ylabel='Frequency'>"
      ]
     },
     "execution_count": 8,
     "metadata": {},
     "output_type": "execute_result"
    },
    {
     "data": {
      "image/png": "[encoded data removed]",
      "text/plain": [
       "<Figure size 432x288 with 1 Axes>"
      ]
     },
     "metadata": {
      "needs_background": "light"
     },
     "output_type": "display_data"
    }
   ],
   "source": [
    "median_station_stat = df.pivot_table(\n",
    "    index='id', values='time_spent', aggfunc='median')\n",
    "good_stations_stat = good_data.pivot_table(\n",
    "    index='id', values='time_spent', aggfunc='median')\n",
    "\n",
    "ax = median_station_stat.plot(\n",
    "    kind='hist',\n",
    "    y='time_spent',\n",
    "    histtype='step',\n",
    "    range=(0, 500),\n",
    "    bins=25,\n",
    "    linewidth=5,\n",
    "    alpha=0.7,\n",
    "    label='raw',)\n",
    "\n",
    "good_stations_stat.plot(\n",
    "    kind='hist',\n",
    "    y='time_spent',\n",
    "    histtype='step',\n",
    "    range=(0, 500),\n",
    "    bins=25,\n",
    "    linewidth=5,\n",
    "    alpha=0.7,\n",
    "    label='filtered',\n",
    "    ax=ax,\n",
    "    grid=True,\n",
    "    legend=True,) \n"
   ]
  },
  {
   "cell_type": "code",
   "execution_count": 3,
   "id": "43825bf8",
   "metadata": {},
   "outputs": [],
   "source": [
    "df = pd.read_csv('visits.csv', sep='\\t')\n",
    "df['too_fast'] = df['time_spent'] < 60\n",
    "df['too_slow'] = df['time_spent'] > 1000\n",
    "\n",
    "too_fast_stat = df.pivot_table(index='id', values='too_fast')\n",
    "good_ids = too_fast_stat.query('too_fast < 0.5')\n",
    "good_data = df.query(\n",
    "    'id in @good_ids.index and 60 <= time_spent <= 1000')\n",
    "\n",
    "station_stat = df.pivot_table(\n",
    "    index='id', values='time_spent', aggfunc='median')\n",
    "good_stations_stat = good_data.pivot_table(\n",
    "    index='id', values='time_spent', aggfunc='median')\n",
    "\n",
    "stat = df.pivot_table(\n",
    "    index='name', values='time_spent')\n",
    "good_stat = good_data.pivot_table(\n",
    "    index='name', values='time_spent', aggfunc='median')"
   ]
  },
  {
   "cell_type": "code",
   "execution_count": 11,
   "id": "72838722",
   "metadata": {},
   "outputs": [],
   "source": [
    "stat['good_time_spent'] = good_stat"
   ]
  },
  {
   "cell_type": "code",
   "execution_count": 13,
   "id": "7f7a3fe0",
   "metadata": {},
   "outputs": [
    {
     "data": {
      "text/plain": [
       "name\n",
       "Агератум    309.0\n",
       "Амарант     187.5\n",
       "Аммобиум    180.5\n",
       "Арктотис    185.0\n",
       "Астильба    423.0\n",
       "Name: good_time_spent, dtype: float64"
      ]
     },
     "execution_count": 13,
     "metadata": {},
     "output_type": "execute_result"
    }
   ],
   "source": [
    "stat['good_time_spent'].head()"
   ]
  },
  {
   "cell_type": "code",
   "execution_count": 15,
   "id": "33db1c6b",
   "metadata": {},
   "outputs": [
    {
     "data": {
      "text/plain": [
       "name\n",
       "Агератум    337.802721\n",
       "Амарант     132.760012\n",
       "Аммобиум    256.708042\n",
       "Арктотис     73.879984\n",
       "Астильба    376.143149\n",
       "Name: time_spent, dtype: float64"
      ]
     },
     "execution_count": 15,
     "metadata": {},
     "output_type": "execute_result"
    }
   ],
   "source": [
    "stat['time_spent'].head()\n"
   ]
  },
  {
   "cell_type": "code",
   "execution_count": 24,
   "id": "53b83b87",
   "metadata": {},
   "outputs": [
    {
     "data": {
      "text/html": [
       "<div>\n",
       "<style scoped>\n",
       "    .dataframe tbody tr th:only-of-type {\n",
       "        vertical-align: middle;\n",
       "    }\n",
       "\n",
       "    .dataframe tbody tr th {\n",
       "        vertical-align: top;\n",
       "    }\n",
       "\n",
       "    .dataframe thead tr th {\n",
       "        text-align: left;\n",
       "    }\n",
       "\n",
       "    .dataframe thead tr:last-of-type th {\n",
       "        text-align: right;\n",
       "    }\n",
       "</style>\n",
       "<table border=\"1\" class=\"dataframe\">\n",
       "  <thead>\n",
       "    <tr>\n",
       "      <th></th>\n",
       "      <th>first</th>\n",
       "      <th>count</th>\n",
       "    </tr>\n",
       "    <tr>\n",
       "      <th></th>\n",
       "      <th>name</th>\n",
       "      <th>name</th>\n",
       "    </tr>\n",
       "    <tr>\n",
       "      <th>id</th>\n",
       "      <th></th>\n",
       "      <th></th>\n",
       "    </tr>\n",
       "  </thead>\n",
       "  <tbody>\n",
       "    <tr>\n",
       "      <th>00ca1b70</th>\n",
       "      <td>Вероника</td>\n",
       "      <td>131</td>\n",
       "    </tr>\n",
       "    <tr>\n",
       "      <th>0178ce70</th>\n",
       "      <td>Василёк</td>\n",
       "      <td>164</td>\n",
       "    </tr>\n",
       "    <tr>\n",
       "      <th>01abf4e9</th>\n",
       "      <td>Гацания</td>\n",
       "      <td>30</td>\n",
       "    </tr>\n",
       "    <tr>\n",
       "      <th>030a9067</th>\n",
       "      <td>Колокольчик</td>\n",
       "      <td>228</td>\n",
       "    </tr>\n",
       "    <tr>\n",
       "      <th>03740f2d</th>\n",
       "      <td>Василёк</td>\n",
       "      <td>157</td>\n",
       "    </tr>\n",
       "  </tbody>\n",
       "</table>\n",
       "</div>"
      ],
      "text/plain": [
       "                first count\n",
       "                 name  name\n",
       "id                         \n",
       "00ca1b70     Вероника   131\n",
       "0178ce70      Василёк   164\n",
       "01abf4e9      Гацания    30\n",
       "030a9067  Колокольчик   228\n",
       "03740f2d      Василёк   157"
      ]
     },
     "execution_count": 24,
     "metadata": {},
     "output_type": "execute_result"
    }
   ],
   "source": [
    "id_name = good_data.pivot_table(\n",
    "    index='id', values='name', aggfunc=['first' , 'count'])\n",
    "id_name.head()"
   ]
  },
  {
   "cell_type": "code",
   "execution_count": 26,
   "id": "e713c3e2",
   "metadata": {},
   "outputs": [
    {
     "data": {
      "text/html": [
       "<div>\n",
       "<style scoped>\n",
       "    .dataframe tbody tr th:only-of-type {\n",
       "        vertical-align: middle;\n",
       "    }\n",
       "\n",
       "    .dataframe tbody tr th {\n",
       "        vertical-align: top;\n",
       "    }\n",
       "\n",
       "    .dataframe thead th {\n",
       "        text-align: right;\n",
       "    }\n",
       "</style>\n",
       "<table border=\"1\" class=\"dataframe\">\n",
       "  <thead>\n",
       "    <tr style=\"text-align: right;\">\n",
       "      <th></th>\n",
       "      <th>name</th>\n",
       "      <th>count</th>\n",
       "    </tr>\n",
       "    <tr>\n",
       "      <th>id</th>\n",
       "      <th></th>\n",
       "      <th></th>\n",
       "    </tr>\n",
       "  </thead>\n",
       "  <tbody>\n",
       "    <tr>\n",
       "      <th>00ca1b70</th>\n",
       "      <td>Вероника</td>\n",
       "      <td>131</td>\n",
       "    </tr>\n",
       "    <tr>\n",
       "      <th>0178ce70</th>\n",
       "      <td>Василёк</td>\n",
       "      <td>164</td>\n",
       "    </tr>\n",
       "    <tr>\n",
       "      <th>01abf4e9</th>\n",
       "      <td>Гацания</td>\n",
       "      <td>30</td>\n",
       "    </tr>\n",
       "    <tr>\n",
       "      <th>030a9067</th>\n",
       "      <td>Колокольчик</td>\n",
       "      <td>228</td>\n",
       "    </tr>\n",
       "    <tr>\n",
       "      <th>03740f2d</th>\n",
       "      <td>Василёк</td>\n",
       "      <td>157</td>\n",
       "    </tr>\n",
       "  </tbody>\n",
       "</table>\n",
       "</div>"
      ],
      "text/plain": [
       "                 name  count\n",
       "id                          \n",
       "00ca1b70     Вероника    131\n",
       "0178ce70      Василёк    164\n",
       "01abf4e9      Гацания     30\n",
       "030a9067  Колокольчик    228\n",
       "03740f2d      Василёк    157"
      ]
     },
     "execution_count": 26,
     "metadata": {},
     "output_type": "execute_result"
    }
   ],
   "source": [
    "id_name.columns = ['name', 'count']\n",
    "id_name.head()"
   ]
  },
  {
   "cell_type": "code",
   "execution_count": 28,
   "id": "b2388e6f",
   "metadata": {},
   "outputs": [
    {
     "data": {
      "text/html": [
       "<div>\n",
       "<style scoped>\n",
       "    .dataframe tbody tr th:only-of-type {\n",
       "        vertical-align: middle;\n",
       "    }\n",
       "\n",
       "    .dataframe tbody tr th {\n",
       "        vertical-align: top;\n",
       "    }\n",
       "\n",
       "    .dataframe thead th {\n",
       "        text-align: right;\n",
       "    }\n",
       "</style>\n",
       "<table border=\"1\" class=\"dataframe\">\n",
       "  <thead>\n",
       "    <tr style=\"text-align: right;\">\n",
       "      <th></th>\n",
       "      <th>name</th>\n",
       "      <th>count</th>\n",
       "      <th>time_spent</th>\n",
       "    </tr>\n",
       "    <tr>\n",
       "      <th>id</th>\n",
       "      <th></th>\n",
       "      <th></th>\n",
       "      <th></th>\n",
       "    </tr>\n",
       "  </thead>\n",
       "  <tbody>\n",
       "    <tr>\n",
       "      <th>00ca1b70</th>\n",
       "      <td>Вероника</td>\n",
       "      <td>131</td>\n",
       "      <td>166.0</td>\n",
       "    </tr>\n",
       "    <tr>\n",
       "      <th>0178ce70</th>\n",
       "      <td>Василёк</td>\n",
       "      <td>164</td>\n",
       "      <td>234.5</td>\n",
       "    </tr>\n",
       "    <tr>\n",
       "      <th>01abf4e9</th>\n",
       "      <td>Гацания</td>\n",
       "      <td>30</td>\n",
       "      <td>181.5</td>\n",
       "    </tr>\n",
       "    <tr>\n",
       "      <th>030a9067</th>\n",
       "      <td>Колокольчик</td>\n",
       "      <td>228</td>\n",
       "      <td>135.5</td>\n",
       "    </tr>\n",
       "    <tr>\n",
       "      <th>03740f2d</th>\n",
       "      <td>Василёк</td>\n",
       "      <td>157</td>\n",
       "      <td>289.0</td>\n",
       "    </tr>\n",
       "  </tbody>\n",
       "</table>\n",
       "</div>"
      ],
      "text/plain": [
       "                 name  count  time_spent\n",
       "id                                      \n",
       "00ca1b70     Вероника    131       166.0\n",
       "0178ce70      Василёк    164       234.5\n",
       "01abf4e9      Гацания     30       181.5\n",
       "030a9067  Колокольчик    228       135.5\n",
       "03740f2d      Василёк    157       289.0"
      ]
     },
     "execution_count": 28,
     "metadata": {},
     "output_type": "execute_result"
    }
   ],
   "source": [
    "station_stat_full = id_name.join(good_station_stat)\n",
    "station_stat_full.head()"
   ]
  },
  {
   "cell_type": "code",
   "execution_count": 30,
   "id": "33a4d6fa",
   "metadata": {},
   "outputs": [
    {
     "data": {
      "text/plain": [
       "<AxesSubplot:>"
      ]
     },
     "execution_count": 30,
     "metadata": {},
     "output_type": "execute_result"
    },
    {
     "data": {
      "image/png": "[encoded data removed]",
      "text/plain": [
       "<Figure size 432x288 with 1 Axes>"
      ]
     },
     "metadata": {
      "needs_background": "light"
     },
     "output_type": "display_data"
    }
   ],
   "source": [
    "station_stat_full['count'].hist(bins=30)"
   ]
  },
  {
   "cell_type": "code",
   "execution_count": 34,
   "id": "86d1d924",
   "metadata": {},
   "outputs": [
    {
     "data": {
      "text/plain": [
       "<AxesSubplot:>"
      ]
     },
     "execution_count": 34,
     "metadata": {},
     "output_type": "execute_result"
    },
    {
     "data": {
      "image/png": "[encoded data removed]",
      "text/plain": [
       "<Figure size 432x288 with 1 Axes>"
      ]
     },
     "metadata": {
      "needs_background": "light"
     },
     "output_type": "display_data"
    }
   ],
   "source": [
    "station_stat_full['count'].hist(bins=30, range=(0, 300))"
   ]
  },
  {
   "cell_type": "code",
   "execution_count": null,
   "id": "d0464775",
   "metadata": {},
   "outputs": [],
   "source": []
  },
  {
   "cell_type": "code",
   "execution_count": 45,
   "id": "470b8ffc",
   "metadata": {},
   "outputs": [
    {
     "data": {
      "text/html": [
       "<div>\n",
       "<style scoped>\n",
       "    .dataframe tbody tr th:only-of-type {\n",
       "        vertical-align: middle;\n",
       "    }\n",
       "\n",
       "    .dataframe tbody tr th {\n",
       "        vertical-align: top;\n",
       "    }\n",
       "\n",
       "    .dataframe thead th {\n",
       "        text-align: right;\n",
       "    }\n",
       "</style>\n",
       "<table border=\"1\" class=\"dataframe\">\n",
       "  <thead>\n",
       "    <tr style=\"text-align: right;\">\n",
       "      <th></th>\n",
       "      <th>median_time</th>\n",
       "      <th>stations</th>\n",
       "    </tr>\n",
       "    <tr>\n",
       "      <th>name</th>\n",
       "      <th></th>\n",
       "      <th></th>\n",
       "    </tr>\n",
       "  </thead>\n",
       "  <tbody>\n",
       "    <tr>\n",
       "      <th>Агератум</th>\n",
       "      <td>308.50</td>\n",
       "      <td>3</td>\n",
       "    </tr>\n",
       "    <tr>\n",
       "      <th>Амарант</th>\n",
       "      <td>169.00</td>\n",
       "      <td>5</td>\n",
       "    </tr>\n",
       "    <tr>\n",
       "      <th>Аммобиум</th>\n",
       "      <td>178.75</td>\n",
       "      <td>4</td>\n",
       "    </tr>\n",
       "    <tr>\n",
       "      <th>Арктотис</th>\n",
       "      <td>190.50</td>\n",
       "      <td>3</td>\n",
       "    </tr>\n",
       "    <tr>\n",
       "      <th>Астильба</th>\n",
       "      <td>435.50</td>\n",
       "      <td>4</td>\n",
       "    </tr>\n",
       "  </tbody>\n",
       "</table>\n",
       "</div>"
      ],
      "text/plain": [
       "          median_time  stations\n",
       "name                           \n",
       "Агератум       308.50         3\n",
       "Амарант        169.00         5\n",
       "Аммобиум       178.75         4\n",
       "Арктотис       190.50         3\n",
       "Астильба       435.50         4"
      ]
     },
     "execution_count": 45,
     "metadata": {},
     "output_type": "execute_result"
    }
   ],
   "source": [
    "good_stat2 = station_stat_full.query('count > 30').pivot_table(\n",
    "    index='name', values = 'time_spent',\n",
    "    aggfunc=['median', 'count'])\n",
    "    \n",
    "good_stat2.columns = ['median_time', 'stations']\n",
    "\n",
    "good_stat2.head()"
   ]
  },
  {
   "cell_type": "code",
   "execution_count": 46,
   "id": "d9dcae29",
   "metadata": {},
   "outputs": [
    {
     "data": {
      "text/html": [
       "<div>\n",
       "<style scoped>\n",
       "    .dataframe tbody tr th:only-of-type {\n",
       "        vertical-align: middle;\n",
       "    }\n",
       "\n",
       "    .dataframe tbody tr th {\n",
       "        vertical-align: top;\n",
       "    }\n",
       "\n",
       "    .dataframe thead th {\n",
       "        text-align: right;\n",
       "    }\n",
       "</style>\n",
       "<table border=\"1\" class=\"dataframe\">\n",
       "  <thead>\n",
       "    <tr style=\"text-align: right;\">\n",
       "      <th></th>\n",
       "      <th>median_time</th>\n",
       "      <th>stations</th>\n",
       "      <th>time_spent</th>\n",
       "      <th>good_time_spent</th>\n",
       "    </tr>\n",
       "    <tr>\n",
       "      <th>name</th>\n",
       "      <th></th>\n",
       "      <th></th>\n",
       "      <th></th>\n",
       "      <th></th>\n",
       "    </tr>\n",
       "  </thead>\n",
       "  <tbody>\n",
       "    <tr>\n",
       "      <th>Агератум</th>\n",
       "      <td>308.50</td>\n",
       "      <td>3</td>\n",
       "      <td>337.802721</td>\n",
       "      <td>309.0</td>\n",
       "    </tr>\n",
       "    <tr>\n",
       "      <th>Амарант</th>\n",
       "      <td>169.00</td>\n",
       "      <td>5</td>\n",
       "      <td>132.760012</td>\n",
       "      <td>187.5</td>\n",
       "    </tr>\n",
       "    <tr>\n",
       "      <th>Аммобиум</th>\n",
       "      <td>178.75</td>\n",
       "      <td>4</td>\n",
       "      <td>256.708042</td>\n",
       "      <td>180.5</td>\n",
       "    </tr>\n",
       "    <tr>\n",
       "      <th>Арктотис</th>\n",
       "      <td>190.50</td>\n",
       "      <td>3</td>\n",
       "      <td>73.879984</td>\n",
       "      <td>185.0</td>\n",
       "    </tr>\n",
       "    <tr>\n",
       "      <th>Астильба</th>\n",
       "      <td>435.50</td>\n",
       "      <td>4</td>\n",
       "      <td>376.143149</td>\n",
       "      <td>423.0</td>\n",
       "    </tr>\n",
       "  </tbody>\n",
       "</table>\n",
       "</div>"
      ],
      "text/plain": [
       "          median_time  stations  time_spent  good_time_spent\n",
       "name                                                        \n",
       "Агератум       308.50         3  337.802721            309.0\n",
       "Амарант        169.00         5  132.760012            187.5\n",
       "Аммобиум       178.75         4  256.708042            180.5\n",
       "Арктотис       190.50         3   73.879984            185.0\n",
       "Астильба       435.50         4  376.143149            423.0"
      ]
     },
     "execution_count": 46,
     "metadata": {},
     "output_type": "execute_result"
    }
   ],
   "source": [
    "final_stat = good_stat2.join(stat)\n",
    "final_stat.head()"
   ]
  },
  {
   "cell_type": "code",
   "execution_count": 49,
   "id": "b39a2570",
   "metadata": {},
   "outputs": [
    {
     "data": {
      "text/plain": [
       "<AxesSubplot:xlabel='time_spent', ylabel='count'>"
      ]
     },
     "execution_count": 49,
     "metadata": {},
     "output_type": "execute_result"
    },
    {
     "data": {
      "image/png": "[encoded data removed]",
      "text/plain": [
       "<Figure size 432x288 with 1 Axes>"
      ]
     },
     "metadata": {
      "needs_background": "light"
     },
     "output_type": "display_data"
    }
   ],
   "source": [
    "station_stat_full.plot(x='time_spent', y='count', kind='scatter', grid=True)\n",
    "hw.plot(x='height', y='weight', kind='hexbin', gridsize=20, figsize=(8, 6), sharex=False, grid=True) \n"
   ]
  },
  {
   "cell_type": "code",
   "execution_count": 57,
   "id": "7e4b61a7",
   "metadata": {},
   "outputs": [
    {
     "data": {
      "text/plain": [
       "<AxesSubplot:xlabel='time_spent', ylabel='count'>"
      ]
     },
     "execution_count": 57,
     "metadata": {},
     "output_type": "execute_result"
    },
    {
     "data": {
      "image/png": "[encoded data removed]",
      "text/plain": [
       "<Figure size 576x432 with 2 Axes>"
      ]
     },
     "metadata": {
      "needs_background": "light"
     },
     "output_type": "display_data"
    }
   ],
   "source": [
    "station_stat_full.plot(x='time_spent', y='count', kind='hexbin',\n",
    "                       gridsize=30, figsize=(8,6), sharex=False,grid=True)"
   ]
  },
  {
   "cell_type": "code",
   "execution_count": 64,
   "id": "03095470",
   "metadata": {},
   "outputs": [
    {
     "name": "stdout",
     "output_type": "stream",
     "text": [
      "0.12242632473597159\n"
     ]
    },
    {
     "data": {
      "text/html": [
       "<div>\n",
       "<style scoped>\n",
       "    .dataframe tbody tr th:only-of-type {\n",
       "        vertical-align: middle;\n",
       "    }\n",
       "\n",
       "    .dataframe tbody tr th {\n",
       "        vertical-align: top;\n",
       "    }\n",
       "\n",
       "    .dataframe thead th {\n",
       "        text-align: right;\n",
       "    }\n",
       "</style>\n",
       "<table border=\"1\" class=\"dataframe\">\n",
       "  <thead>\n",
       "    <tr style=\"text-align: right;\">\n",
       "      <th></th>\n",
       "      <th>date_time</th>\n",
       "      <th>id</th>\n",
       "      <th>time_spent</th>\n",
       "      <th>name</th>\n",
       "      <th>too_fast</th>\n",
       "      <th>too_slow</th>\n",
       "    </tr>\n",
       "  </thead>\n",
       "  <tbody>\n",
       "    <tr>\n",
       "      <th>0</th>\n",
       "      <td>20180406T165358</td>\n",
       "      <td>76144fb2</td>\n",
       "      <td>98.0</td>\n",
       "      <td>Василёк</td>\n",
       "      <td>False</td>\n",
       "      <td>False</td>\n",
       "    </tr>\n",
       "    <tr>\n",
       "      <th>1</th>\n",
       "      <td>20180404T173913</td>\n",
       "      <td>76144fb2</td>\n",
       "      <td>15.0</td>\n",
       "      <td>Василёк</td>\n",
       "      <td>True</td>\n",
       "      <td>False</td>\n",
       "    </tr>\n",
       "    <tr>\n",
       "      <th>2</th>\n",
       "      <td>20180403T172824</td>\n",
       "      <td>76144fb2</td>\n",
       "      <td>220.0</td>\n",
       "      <td>Василёк</td>\n",
       "      <td>False</td>\n",
       "      <td>False</td>\n",
       "    </tr>\n",
       "    <tr>\n",
       "      <th>3</th>\n",
       "      <td>20180407T070441</td>\n",
       "      <td>76144fb2</td>\n",
       "      <td>19.0</td>\n",
       "      <td>Василёк</td>\n",
       "      <td>True</td>\n",
       "      <td>False</td>\n",
       "    </tr>\n",
       "    <tr>\n",
       "      <th>4</th>\n",
       "      <td>20180404T132049</td>\n",
       "      <td>76144fb2</td>\n",
       "      <td>14.0</td>\n",
       "      <td>Василёк</td>\n",
       "      <td>True</td>\n",
       "      <td>False</td>\n",
       "    </tr>\n",
       "  </tbody>\n",
       "</table>\n",
       "</div>"
      ],
      "text/plain": [
       "         date_time        id  time_spent     name  too_fast  too_slow\n",
       "0  20180406T165358  76144fb2        98.0  Василёк     False     False\n",
       "1  20180404T173913  76144fb2        15.0  Василёк      True     False\n",
       "2  20180403T172824  76144fb2       220.0  Василёк     False     False\n",
       "3  20180407T070441  76144fb2        19.0  Василёк      True     False\n",
       "4  20180404T132049  76144fb2        14.0  Василёк      True     False"
      ]
     },
     "execution_count": 64,
     "metadata": {},
     "output_type": "execute_result"
    }
   ],
   "source": [
    "print(station_stat_full['time_spent'].corr(station_stat_full['count']))\n",
    "df.head()"
   ]
  },
  {
   "cell_type": "code",
   "execution_count": 12,
   "id": "18836239",
   "metadata": {},
   "outputs": [
    {
     "name": "stderr",
     "output_type": "stream",
     "text": [
      "/var/folders/sp/vlkf_hcn5w19lnw7d31b0cl40000gn/T/ipykernel_16319/2121370354.py:25: FutureWarning: merging between different levels is deprecated and will be removed in a future version. (2 levels on the left, 1 on the right)\n",
      "  station_stat_full = id_name.join(good_station_stat)\n"
     ]
    },
    {
     "name": "stdout",
     "output_type": "stream",
     "text": [
      "            time_spent  too_fast  too_slow\n",
      "time_spent    1.000000 -0.640658  0.802247\n",
      "too_fast     -0.640658  1.000000 -0.255876\n",
      "too_slow      0.802247 -0.255876  1.000000\n"
     ]
    },
    {
     "data": {
      "text/plain": [
       "array([[<AxesSubplot:xlabel='time_spent', ylabel='time_spent'>,\n",
       "        <AxesSubplot:xlabel='too_fast', ylabel='time_spent'>,\n",
       "        <AxesSubplot:xlabel='too_slow', ylabel='time_spent'>],\n",
       "       [<AxesSubplot:xlabel='time_spent', ylabel='too_fast'>,\n",
       "        <AxesSubplot:xlabel='too_fast', ylabel='too_fast'>,\n",
       "        <AxesSubplot:xlabel='too_slow', ylabel='too_fast'>],\n",
       "       [<AxesSubplot:xlabel='time_spent', ylabel='too_slow'>,\n",
       "        <AxesSubplot:xlabel='too_fast', ylabel='too_slow'>,\n",
       "        <AxesSubplot:xlabel='too_slow', ylabel='too_slow'>]], dtype=object)"
      ]
     },
     "execution_count": 12,
     "metadata": {},
     "output_type": "execute_result"
    },
    {
     "data": {
      "image/png": "[encoded data removed]",
      "text/plain": [
       "<Figure size 648x648 with 9 Axes>"
      ]
     },
     "metadata": {
      "needs_background": "light"
     },
     "output_type": "display_data"
    }
   ],
   "source": [
    "import pandas as pd\n",
    "df = pd.read_csv('visits.csv', sep='\\t')\n",
    "df['too_fast'] = df['time_spent'] < 60\n",
    "df['too_slow'] = df['time_spent'] > 1000\n",
    "\n",
    "too_fast_stat = df.pivot_table(index='id', values='too_fast')\n",
    "good_ids = too_fast_stat.query('too_fast < 0.5')\n",
    "good_data = df.query(\n",
    "    'id in @good_ids.index and 60 <= time_spent <= 1000')\n",
    "\n",
    "station_stat = df.pivot_table(\n",
    "    index='id', values='time_spent', aggfunc='median')\n",
    "good_stations_stat = good_data.pivot_table(\n",
    "    index='id', values='time_spent', aggfunc='median')\n",
    "\n",
    "stat = df.pivot_table(\n",
    "    index='name', values='time_spent')\n",
    "good_stat = good_data.pivot_table(\n",
    "    index='name', values='time_spent', aggfunc='median')\n",
    "\n",
    "id_name = good_data.pivot_table(\n",
    "    index='id', values='name', aggfunc=['first' , 'count'])\n",
    "good_station_stat = good_data.pivot_table(\n",
    "    index='id', values='time_spent', aggfunc='median')\n",
    "station_stat_full = id_name.join(good_station_stat)\n",
    "\n",
    "station_stat_multi = df.pivot_table(\n",
    "    index='id', values=['time_spent', 'too_fast', 'too_slow'],\n",
    "    aggfunc='mean')\n",
    "print(station_stat_multi.corr())        \n",
    "\n",
    "pd.plotting.scatter_matrix(station_stat_multi, figsize=(9, 9))"
   ]
  },
  {
   "cell_type": "code",
   "execution_count": 8,
   "id": "089fbb70",
   "metadata": {},
   "outputs": [],
   "source": []
  },
  {
   "cell_type": "code",
   "execution_count": 16,
   "id": "e137c29f",
   "metadata": {},
   "outputs": [
    {
     "ename": "KeyError",
     "evalue": "'good_time_spent'",
     "output_type": "error",
     "traceback": [
      "\u001b[0;31m---------------------------------------------------------------------------\u001b[0m",
      "\u001b[0;31mKeyError\u001b[0m                                  Traceback (most recent call last)",
      "File \u001b[0;32m~/opt/anaconda3/lib/python3.9/site-packages/pandas/core/indexes/base.py:3621\u001b[0m, in \u001b[0;36mIndex.get_loc\u001b[0;34m(self, key, method, tolerance)\u001b[0m\n\u001b[1;32m   3620\u001b[0m \u001b[38;5;28;01mtry\u001b[39;00m:\n\u001b[0;32m-> 3621\u001b[0m     \u001b[38;5;28;01mreturn\u001b[39;00m \u001b[38;5;28;43mself\u001b[39;49m\u001b[38;5;241;43m.\u001b[39;49m\u001b[43m_engine\u001b[49m\u001b[38;5;241;43m.\u001b[39;49m\u001b[43mget_loc\u001b[49m\u001b[43m(\u001b[49m\u001b[43mcasted_key\u001b[49m\u001b[43m)\u001b[49m\n\u001b[1;32m   3622\u001b[0m \u001b[38;5;28;01mexcept\u001b[39;00m \u001b[38;5;167;01mKeyError\u001b[39;00m \u001b[38;5;28;01mas\u001b[39;00m err:\n",
      "File \u001b[0;32m~/opt/anaconda3/lib/python3.9/site-packages/pandas/_libs/index.pyx:136\u001b[0m, in \u001b[0;36mpandas._libs.index.IndexEngine.get_loc\u001b[0;34m()\u001b[0m\n",
      "File \u001b[0;32m~/opt/anaconda3/lib/python3.9/site-packages/pandas/_libs/index.pyx:163\u001b[0m, in \u001b[0;36mpandas._libs.index.IndexEngine.get_loc\u001b[0;34m()\u001b[0m\n",
      "File \u001b[0;32mpandas/_libs/hashtable_class_helper.pxi:5198\u001b[0m, in \u001b[0;36mpandas._libs.hashtable.PyObjectHashTable.get_item\u001b[0;34m()\u001b[0m\n",
      "File \u001b[0;32mpandas/_libs/hashtable_class_helper.pxi:5206\u001b[0m, in \u001b[0;36mpandas._libs.hashtable.PyObjectHashTable.get_item\u001b[0;34m()\u001b[0m\n",
      "\u001b[0;31mKeyError\u001b[0m: 'good_time_spent'",
      "\nThe above exception was the direct cause of the following exception:\n",
      "\u001b[0;31mKeyError\u001b[0m                                  Traceback (most recent call last)",
      "Input \u001b[0;32mIn [16]\u001b[0m, in \u001b[0;36m<cell line: 1>\u001b[0;34m()\u001b[0m\n\u001b[0;32m----> 1\u001b[0m \u001b[38;5;28mprint\u001b[39m(\u001b[43mstation_stat_multi\u001b[49m\u001b[43m[\u001b[49m\u001b[38;5;124;43m'\u001b[39;49m\u001b[38;5;124;43mgood_time_spent\u001b[39;49m\u001b[38;5;124;43m'\u001b[39;49m\u001b[43m]\u001b[49m)\u001b[38;5;241m.\u001b[39mcorr(good_station_stat[\u001b[38;5;124m'\u001b[39m\u001b[38;5;124mtime_spent\u001b[39m\u001b[38;5;124m'\u001b[39m])\n",
      "File \u001b[0;32m~/opt/anaconda3/lib/python3.9/site-packages/pandas/core/frame.py:3505\u001b[0m, in \u001b[0;36mDataFrame.__getitem__\u001b[0;34m(self, key)\u001b[0m\n\u001b[1;32m   3503\u001b[0m \u001b[38;5;28;01mif\u001b[39;00m \u001b[38;5;28mself\u001b[39m\u001b[38;5;241m.\u001b[39mcolumns\u001b[38;5;241m.\u001b[39mnlevels \u001b[38;5;241m>\u001b[39m \u001b[38;5;241m1\u001b[39m:\n\u001b[1;32m   3504\u001b[0m     \u001b[38;5;28;01mreturn\u001b[39;00m \u001b[38;5;28mself\u001b[39m\u001b[38;5;241m.\u001b[39m_getitem_multilevel(key)\n\u001b[0;32m-> 3505\u001b[0m indexer \u001b[38;5;241m=\u001b[39m \u001b[38;5;28;43mself\u001b[39;49m\u001b[38;5;241;43m.\u001b[39;49m\u001b[43mcolumns\u001b[49m\u001b[38;5;241;43m.\u001b[39;49m\u001b[43mget_loc\u001b[49m\u001b[43m(\u001b[49m\u001b[43mkey\u001b[49m\u001b[43m)\u001b[49m\n\u001b[1;32m   3506\u001b[0m \u001b[38;5;28;01mif\u001b[39;00m is_integer(indexer):\n\u001b[1;32m   3507\u001b[0m     indexer \u001b[38;5;241m=\u001b[39m [indexer]\n",
      "File \u001b[0;32m~/opt/anaconda3/lib/python3.9/site-packages/pandas/core/indexes/base.py:3623\u001b[0m, in \u001b[0;36mIndex.get_loc\u001b[0;34m(self, key, method, tolerance)\u001b[0m\n\u001b[1;32m   3621\u001b[0m     \u001b[38;5;28;01mreturn\u001b[39;00m \u001b[38;5;28mself\u001b[39m\u001b[38;5;241m.\u001b[39m_engine\u001b[38;5;241m.\u001b[39mget_loc(casted_key)\n\u001b[1;32m   3622\u001b[0m \u001b[38;5;28;01mexcept\u001b[39;00m \u001b[38;5;167;01mKeyError\u001b[39;00m \u001b[38;5;28;01mas\u001b[39;00m err:\n\u001b[0;32m-> 3623\u001b[0m     \u001b[38;5;28;01mraise\u001b[39;00m \u001b[38;5;167;01mKeyError\u001b[39;00m(key) \u001b[38;5;28;01mfrom\u001b[39;00m \u001b[38;5;21;01merr\u001b[39;00m\n\u001b[1;32m   3624\u001b[0m \u001b[38;5;28;01mexcept\u001b[39;00m \u001b[38;5;167;01mTypeError\u001b[39;00m:\n\u001b[1;32m   3625\u001b[0m     \u001b[38;5;66;03m# If we have a listlike key, _check_indexing_error will raise\u001b[39;00m\n\u001b[1;32m   3626\u001b[0m     \u001b[38;5;66;03m#  InvalidIndexError. Otherwise we fall through and re-raise\u001b[39;00m\n\u001b[1;32m   3627\u001b[0m     \u001b[38;5;66;03m#  the TypeError.\u001b[39;00m\n\u001b[1;32m   3628\u001b[0m     \u001b[38;5;28mself\u001b[39m\u001b[38;5;241m.\u001b[39m_check_indexing_error(key)\n",
      "\u001b[0;31mKeyError\u001b[0m: 'good_time_spent'"
     ]
    }
   ],
   "source": [
    "print(station_stat_multi['good_time_spent']).corr(good_station_stat['time_spent'])\n",
    "ЗАЕБАЛСЯ"
   ]
  },
  {
   "cell_type": "code",
   "execution_count": null,
   "id": "4cb8b45b",
   "metadata": {},
   "outputs": [],
   "source": []
  }
 ],
 "metadata": {
  "kernelspec": {
   "display_name": "Python 3 (ipykernel)",
   "language": "python",
   "name": "python3"
  },
  "language_info": {
   "codemirror_mode": {
    "name": "ipython",
    "version": 3
   },
   "file_extension": ".py",
   "mimetype": "text/x-python",
   "name": "python",
   "nbconvert_exporter": "python",
   "pygments_lexer": "ipython3",
   "version": "3.9.12"
  }
 },
 "nbformat": 4,
 "nbformat_minor": 5
}
